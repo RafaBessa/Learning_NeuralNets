{
  "nbformat": 4,
  "nbformat_minor": 0,
  "metadata": {
    "colab": {
      "name": "KNN-Iris.ipynb",
      "provenance": [],
      "collapsed_sections": [],
      "include_colab_link": true
    },
    "kernelspec": {
      "name": "python3",
      "display_name": "Python 3"
    }
  },
  "cells": [
    {
      "cell_type": "markdown",
      "metadata": {
        "id": "view-in-github",
        "colab_type": "text"
      },
      "source": [
        "<a href=\"https://colab.research.google.com/github/RafaBessa/Learning_NeuralNets/blob/master/KNN_Iris.ipynb\" target=\"_parent\"><img src=\"https://colab.research.google.com/assets/colab-badge.svg\" alt=\"Open In Colab\"/></a>"
      ]
    },
    {
      "cell_type": "code",
      "metadata": {
        "id": "LCnTaZP8pPgv",
        "colab_type": "code",
        "colab": {}
      },
      "source": [
        "import warnings\n",
        "warnings.filterwarnings('ignore')\n",
        "from sklearn.datasets import load_iris\n",
        "from sklearn.model_selection import train_test_split\n",
        "import numpy as np\n",
        "from sklearn.preprocessing import MinMaxScaler\n",
        "from sklearn.neighbors import KNeighborsClassifier\n",
        "from sklearn.metrics import classification_report, confusion_matrix\n",
        "import sklearn\n"
      ],
      "execution_count": 0,
      "outputs": []
    },
    {
      "cell_type": "code",
      "metadata": {
        "id": "DbyvUKFGpiAh",
        "colab_type": "code",
        "colab": {
          "base_uri": "https://localhost:8080/",
          "height": 34
        },
        "outputId": "fea7df84-320f-4d57-d459-a08d26fd6720"
      },
      "source": [
        "#Load DATA\n",
        "iris = load_iris()\n",
        "x = iris['data']\n",
        "y = iris['target']\n",
        "#print(x)\n",
        "print(iris['target_names'])\n"
      ],
      "execution_count": 25,
      "outputs": [
        {
          "output_type": "stream",
          "text": [
            "['setosa' 'versicolor' 'virginica']\n"
          ],
          "name": "stdout"
        }
      ]
    },
    {
      "cell_type": "code",
      "metadata": {
        "id": "yNX75-61p_nu",
        "colab_type": "code",
        "colab": {}
      },
      "source": [
        "#aproximando os valores, para uma maior precisao\n",
        "x_train, x_test, y_train, y_test = train_test_split(x, y, train_size=0.8)\n",
        "\n",
        "\n",
        "scaler = MinMaxScaler()\n",
        "#print(iris['data'])\n",
        "x_train=scaler.fit_transform(x_train)\n",
        "x_test = scaler.transform(x_test)\n"
      ],
      "execution_count": 0,
      "outputs": []
    },
    {
      "cell_type": "code",
      "metadata": {
        "id": "dhykKOiTsHQZ",
        "colab_type": "code",
        "colab": {
          "base_uri": "https://localhost:8080/",
          "height": 51
        },
        "outputId": "6373b4d5-43e0-45d2-b66f-e0c8e777c080"
      },
      "source": [
        "#Criando o classifier e o trainando para o dataset\n",
        "#Prevendo os valores do test\n",
        "#guia das metricas https://scikit-learn.org/stable/modules/generated/sklearn.neighbors.DistanceMetric.html\n",
        "classifier = KNeighborsClassifier(n_neighbors=5)\n",
        "#print(classifier)\n",
        "classifier.fit(x_train,y_train)\n",
        "y_pred = classifier.predict(x_test)\n",
        "print(y_pred)\n",
        "print(y_test)"
      ],
      "execution_count": 32,
      "outputs": [
        {
          "output_type": "stream",
          "text": [
            "[0 0 0 1 2 1 2 1 1 0 1 2 1 1 2 1 0 2 2 2 0 1 1 1 0 2 2 0 1 0]\n",
            "[0 0 0 1 2 1 2 1 1 0 1 2 1 1 2 1 0 1 2 2 0 1 1 1 0 2 2 0 1 0]\n"
          ],
          "name": "stdout"
        }
      ]
    },
    {
      "cell_type": "code",
      "metadata": {
        "id": "n2tnOsNX482x",
        "colab_type": "code",
        "colab": {
          "base_uri": "https://localhost:8080/",
          "height": 238
        },
        "outputId": "4832928d-1f73-468e-d795-fbfcd68a2380"
      },
      "source": [
        "#availiando o metodo\n",
        "print(confusion_matrix(y_test,y_pred))\n",
        "print(classification_report(y_test,y_pred))"
      ],
      "execution_count": 36,
      "outputs": [
        {
          "output_type": "stream",
          "text": [
            "[[ 9  0  0]\n",
            " [ 0 12  1]\n",
            " [ 0  3  5]]\n",
            "              precision    recall  f1-score   support\n",
            "\n",
            "           0       1.00      1.00      1.00         9\n",
            "           1       0.80      0.92      0.86        13\n",
            "           2       0.83      0.62      0.71         8\n",
            "\n",
            "    accuracy                           0.87        30\n",
            "   macro avg       0.88      0.85      0.86        30\n",
            "weighted avg       0.87      0.87      0.86        30\n",
            "\n"
          ],
          "name": "stdout"
        }
      ]
    },
    {
      "cell_type": "code",
      "metadata": {
        "id": "MreW4s05366A",
        "colab_type": "code",
        "colab": {
          "base_uri": "https://localhost:8080/",
          "height": 51
        },
        "outputId": "7c50d0bf-31a3-4381-b663-c50c4b63f3a1"
      },
      "source": [
        "#mahalanobis\n",
        "#guia das metricas https://scikit-learn.org/stable/modules/generated/sklearn.neighbors.DistanceMetric.html\n",
        "\n",
        "classifier = KNeighborsClassifier(n_neighbors=5,metric = 'mahalanobis', metric_params={'V': np.cov(x_train,rowvar=False)})\n",
        "#print(classifier)                                                                                covariance matrix\n",
        "classifier.fit(x_train,y_train)\n",
        "y_pred = classifier.predict(x_test)\n",
        "print(y_pred)\n",
        "print(y_test)"
      ],
      "execution_count": 37,
      "outputs": [
        {
          "output_type": "stream",
          "text": [
            "[0 0 0 2 2 1 1 1 1 0 1 1 1 1 2 1 0 1 1 2 0 1 1 1 0 2 2 0 1 0]\n",
            "[0 0 0 1 2 1 2 1 1 0 1 2 1 1 2 1 0 1 2 2 0 1 1 1 0 2 2 0 1 0]\n"
          ],
          "name": "stdout"
        }
      ]
    },
    {
      "cell_type": "code",
      "metadata": {
        "id": "zFCJ9czwtJbC",
        "colab_type": "code",
        "colab": {
          "base_uri": "https://localhost:8080/",
          "height": 238
        },
        "outputId": "46dca4bf-9c45-4f79-d2a1-b79334c7b4b4"
      },
      "source": [
        "#availiando o metodo\n",
        "\n",
        "print(confusion_matrix(y_test,y_pred))\n",
        "print(classification_report(y_test,y_pred))"
      ],
      "execution_count": 38,
      "outputs": [
        {
          "output_type": "stream",
          "text": [
            "[[ 9  0  0]\n",
            " [ 0 12  1]\n",
            " [ 0  3  5]]\n",
            "              precision    recall  f1-score   support\n",
            "\n",
            "           0       1.00      1.00      1.00         9\n",
            "           1       0.80      0.92      0.86        13\n",
            "           2       0.83      0.62      0.71         8\n",
            "\n",
            "    accuracy                           0.87        30\n",
            "   macro avg       0.88      0.85      0.86        30\n",
            "weighted avg       0.87      0.87      0.86        30\n",
            "\n"
          ],
          "name": "stdout"
        }
      ]
    }
  ]
}