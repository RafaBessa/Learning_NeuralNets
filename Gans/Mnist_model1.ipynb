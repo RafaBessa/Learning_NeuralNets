{
  "nbformat": 4,
  "nbformat_minor": 0,
  "metadata": {
    "accelerator": "TPU",
    "colab": {
      "name": "gans.ipynb",
      "provenance": [],
      "collapsed_sections": []
    },
    "kernelspec": {
      "display_name": "Python 3",
      "name": "python3"
    }
  },
  "cells": [
    {
      "cell_type": "code",
      "metadata": {
        "id": "5wbIdS0Ugt4v",
        "outputId": "8054fa8e-5605-4e67-dde3-121480d61145",
        "colab": {
          "base_uri": "https://localhost:8080/",
          "height": 34
        }
      },
      "source": [
        "import tensorflow as tf\n",
        "import numpy as np\n",
        "import matplotlib.pyplot as plt\n",
        "from tensorflow import keras\n",
        "\n",
        "print(tf.__version__)\n"
      ],
      "execution_count": null,
      "outputs": [
        {
          "output_type": "stream",
          "text": [
            "2.3.0\n"
          ],
          "name": "stdout"
        }
      ]
    },
    {
      "cell_type": "code",
      "metadata": {
        "id": "abmiBrg-hCuB"
      },
      "source": [
        "#global variables\n",
        "BATCH_SIZE = 256\n",
        "BUFFER_SIZE = 60000\n",
        "EPOCHES = 200\n",
        "OUTPUT_DIR =\"img\""
      ],
      "execution_count": null,
      "outputs": []
    },
    {
      "cell_type": "code",
      "metadata": {
        "id": "YrbCKRaNhU8Z",
        "outputId": "db083977-c341-42b5-c606-e61340593796",
        "colab": {
          "base_uri": "https://localhost:8080/",
          "height": 299
        }
      },
      "source": [
        "#dataset\n",
        "mnist = keras.datasets.mnist \n",
        "(train_images, train_labels), (test_images, test_labels) = mnist.load_data()\n",
        "\n",
        "print(train_images.shape)\n",
        "plt.imshow(train_images[1], cmap='gray')"
      ],
      "execution_count": null,
      "outputs": [
        {
          "output_type": "stream",
          "text": [
            "(60000, 28, 28)\n"
          ],
          "name": "stdout"
        },
        {
          "output_type": "execute_result",
          "data": {
            "text/plain": [
              "<matplotlib.image.AxesImage at 0x7f90f5eacba8>"
            ]
          },
          "metadata": {
            "tags": []
          },
          "execution_count": 3
        },
        {
          "output_type": "display_data",
          "data": {
            "image/png": "[encoded data removed]",
            "text/plain": [
              "<Figure size 432x288 with 1 Axes>"
            ]
          },
          "metadata": {
            "tags": [],
            "needs_background": "light"
          }
        }
      ]
    },
    {
      "cell_type": "code",
      "metadata": {
        "id": "ZvfwnV3wh9o3"
      },
      "source": [
        "#dataloader\n",
        "\n",
        "train_images = train_images.astype(\"float32\")\n",
        "train_images = (train_images - 127.5) / 127.5\n",
        "\n",
        "train_dataset = tf.data.Dataset.from_tensor_slices(train_images.reshape(train_images.shape[0],784)).shuffle(BUFFER_SIZE).batch(BATCH_SIZE)\n"
      ],
      "execution_count": null,
      "outputs": []
    },
    {
      "cell_type": "code",
      "metadata": {
        "id": "c5HgOcjHixc8"
      },
      "source": [
        "#Generator\n",
        "\n",
        "class Generator(keras.Model):\n",
        "  def __init__(self,random_noise_size = 100):\n",
        "    super().__init__(name='generator')\n",
        "    #layers\n",
        "    self.input_layer = keras.layers.Dense(units=random_noise_size)\n",
        "    self.dense_1 = keras.layers.Dense(units=128)\n",
        "    self.leaky_1 =  keras.layers.LeakyReLU(alpha = 0.01)\n",
        "    self.dense_2 = keras.layers.Dense(units = 128)\n",
        "    self.leaky_2 = keras.layers.LeakyReLU(alpha = 0.01)\n",
        "    self.dense_3 = keras.layers.Dense(units = 256)\n",
        "    self.leaky_3 = keras.layers.LeakyReLU(alpha = 0.01)\n",
        "    self.output_layer = keras.layers.Dense(units=784, activation = \"tanh\")\n",
        "\n",
        "  def call(self, input_tensor):\n",
        "    #definition of foward pass\n",
        "    x = self.input_layer(input_tensor)\n",
        "    x = self.dense_1(x)\n",
        "    x = self.leaky_1(x)\n",
        "    x = self.dense_2(x)\n",
        "    x = self.leaky_2(x)\n",
        "    x = self.dense_3(x)\n",
        "    x = self.leaky_3(x)\n",
        "    return  self.output_layer(x)\n",
        "  \n",
        "  def generate_noise(self,batch_size,random_noise_size):\n",
        "    return np.random.uniform(-1,1, size = (batch_size,random_noise_size))"
      ],
      "execution_count": null,
      "outputs": []
    },
    {
      "cell_type": "code",
      "metadata": {
        "id": "h03K5R3xrYkr"
      },
      "source": [
        "generator = Generator()"
      ],
      "execution_count": null,
      "outputs": []
    },
    {
      "cell_type": "code",
      "metadata": {
        "id": "DLfexqL8k1if"
      },
      "source": [
        "cross_entropy = tf.keras.losses.BinaryCrossentropy(from_logits = True)\n",
        "\n",
        "def generator_objective(dx_of_gx):\n",
        "  #return true for the generator whose thinks he produces real images\n",
        "  return cross_entropy(tf.ones_like(dx_of_gx),dx_of_gx)"
      ],
      "execution_count": null,
      "outputs": []
    },
    {
      "cell_type": "code",
      "metadata": {
        "id": "385xZuLBnSAv"
      },
      "source": [
        "#discriminator\n",
        "class Discriminator(keras.Model):\n",
        "  def __init__(self):\n",
        "    super().__init__(name = \"discriminator\")\n",
        "    #Layers\n",
        "    self.input_layer = keras.layers.Dense(units = 784)\n",
        "    self.dense_1 = keras.layers.Dense(units=128)\n",
        "    self.leaky_1 =  keras.layers.LeakyReLU(alpha = 0.01)\n",
        "    self.dense_2 = keras.layers.Dense(units = 128)\n",
        "    self.leaky_2 = keras.layers.LeakyReLU(alpha = 0.01)\n",
        "    self.dense_3 = keras.layers.Dense(units = 128)\n",
        "    self.leaky_3 = keras.layers.LeakyReLU(alpha = 0.01)\n",
        "\n",
        "    self.logits = keras.layers.Dense(units= 1)# This neuron tells us if the input is fake or real\n",
        "\n",
        "  def call(self,input_tensor):\n",
        "    #definition of foward pass \n",
        "    x = self.input_layer(input_tensor)\n",
        "    x = self.dense_1(x)\n",
        "    x = self.leaky_1(x)\n",
        "    x = self.leaky_2(x)\n",
        "    x = self.leaky_3(x)\n",
        "    x = self.leaky_3(x)\n",
        "    x = self.logits(x)\n",
        "    return x\n",
        "    \n",
        "    "
      ],
      "execution_count": null,
      "outputs": []
    },
    {
      "cell_type": "code",
      "metadata": {
        "id": "qctcg1Rjq3mD"
      },
      "source": [
        "discriminator = Discriminator()"
      ],
      "execution_count": null,
      "outputs": []
    },
    {
      "cell_type": "code",
      "metadata": {
        "id": "JH9MFqivl3Uf"
      },
      "source": [
        "def discriminator_objective(d_x,g_z, smoothing_factor = 0.9):\n",
        "  #d_x real output\n",
        "  #g_z fake output\n",
        "  real_loss = cross_entropy(tf.ones_like(d_x) * smoothing_factor, d_x) # If we feed the discriminator with real images, we assume they all are the right pictures --> Because of that label == 1\n",
        "  fake_loss = cross_entropy(tf.zeros_like(g_z),g_z)# Each noise we feed in are fakes image --> Because of that labels are 0. \n",
        "  total_loss = real_loss + fake_loss\n",
        "    \n",
        "  return total_loss\n",
        "  \n"
      ],
      "execution_count": null,
      "outputs": []
    },
    {
      "cell_type": "code",
      "metadata": {
        "id": "l7gFi6YioabS"
      },
      "source": [
        "generator_optimizer = keras.optimizers.RMSprop()\n",
        "discriminator_optimizer = keras.optimizers.RMSprop()"
      ],
      "execution_count": null,
      "outputs": []
    },
    {
      "cell_type": "code",
      "metadata": {
        "id": "g7eFHXh-oeHd"
      },
      "source": [
        "#treino\n",
        "@tf.function()\n",
        "def training_step(generator: Generator, discriminator: Discriminator, images:np.ndarray , k:int =1, batch_size = 32):\n",
        "    for _ in range(k):\n",
        "         with tf.GradientTape() as gen_tape, tf.GradientTape() as disc_tape:\n",
        "            noise = generator.generate_noise(batch_size, 100)\n",
        "            g_z = generator(noise)\n",
        "            d_x_true = discriminator(images) # Trainable?\n",
        "            d_x_fake = discriminator(g_z) # dx_of_gx\n",
        "\n",
        "            discriminator_loss = discriminator_objective(d_x_true, d_x_fake)\n",
        "            # Adjusting Gradient of Discriminator\n",
        "            gradients_of_discriminator = disc_tape.gradient(discriminator_loss, discriminator.trainable_variables)\n",
        "            discriminator_optimizer.apply_gradients(zip(gradients_of_discriminator, discriminator.trainable_variables)) # Takes a list of gradient and variables pairs\n",
        "            \n",
        "              \n",
        "            generator_loss = generator_objective(d_x_fake)\n",
        "            # Adjusting Gradient of Generator\n",
        "            gradients_of_generator = gen_tape.gradient(generator_loss, generator.trainable_variables)\n",
        "            generator_optimizer.apply_gradients(zip(gradients_of_generator, generator.trainable_variables))\n"
      ],
      "execution_count": null,
      "outputs": []
    },
    {
      "cell_type": "code",
      "metadata": {
        "id": "p-T4n6oOtMm7"
      },
      "source": [
        "seed = np.random.uniform(-1,1, size = (1, 100)) # generating some noise for the training"
      ],
      "execution_count": null,
      "outputs": []
    },
    {
      "cell_type": "code",
      "metadata": {
        "id": "FeCWCBjJtQI2"
      },
      "source": [
        "import os\n",
        "if not os.path.exists(OUTPUT_DIR):\n",
        "    os.makedirs(OUTPUT_DIR)"
      ],
      "execution_count": null,
      "outputs": []
    },
    {
      "cell_type": "code",
      "metadata": {
        "id": "DYSoxSIdqBIX"
      },
      "source": [
        "def training(dataset, epoches):\n",
        "  for epoch in range(epoches):\n",
        "    for batch in dataset: \n",
        "      training_step(generator, discriminator, batch ,batch_size = BATCH_SIZE, k = 1)\n",
        "        \n",
        "    ## After ith epoch plot image \n",
        "    if (epoch % 1) == 0: \n",
        "      fake_image = tf.reshape(generator(seed), shape = (28,28))\n",
        "      print(\"{}/{} epoches\".format(epoch, epoches))\n",
        "      #plt.imshow(fake_image, cmap = \"gray\")\n",
        "      plt.imsave(\"{}/{}.png\".format(OUTPUT_DIR,epoch),fake_image, cmap = \"gray\")\n",
        "      plt.close('all')"
      ],
      "execution_count": null,
      "outputs": []
    },
    {
      "cell_type": "code",
      "metadata": {
        "id": "0fQfuoqDqRXh",
        "outputId": "db7511c7-26ed-4a2a-f54c-1c00f26b02fb",
        "colab": {
          "base_uri": "https://localhost:8080/",
          "height": 1000
        }
      },
      "source": [
        "training(train_dataset, EPOCHES)"
      ],
      "execution_count": null,
      "outputs": [
        {
          "output_type": "stream",
          "text": [
            "WARNING:tensorflow:Layer generator is casting an input tensor from dtype float64 to the layer's dtype of float32, which is new behavior in TensorFlow 2.  The layer has dtype float32 because its dtype defaults to floatx.\n",
            "\n",
            "If you intended to run this layer in float32, you can safely ignore this warning. If in doubt, this warning is likely only an issue if you are porting a TensorFlow 1.X model to TensorFlow 2.\n",
            "\n",
            "To change all layers to have dtype float64 by default, call `tf.keras.backend.set_floatx('float64')`. To change just this layer, pass dtype='float64' to the layer constructor. If you are the author of this layer, you can disable autocasting by passing autocast=False to the base Layer constructor.\n",
            "\n",
            "0/200 epoches\n",
            "1/200 epoches\n",
            "2/200 epoches\n",
            "3/200 epoches\n",
            "4/200 epoches\n",
            "5/200 epoches\n",
            "6/200 epoches\n",
            "7/200 epoches\n",
            "8/200 epoches\n",
            "9/200 epoches\n",
            "10/200 epoches\n",
            "11/200 epoches\n",
            "12/200 epoches\n",
            "13/200 epoches\n",
            "14/200 epoches\n",
            "15/200 epoches\n",
            "16/200 epoches\n",
            "17/200 epoches\n",
            "18/200 epoches\n",
            "19/200 epoches\n",
            "20/200 epoches\n",
            "21/200 epoches\n",
            "22/200 epoches\n",
            "23/200 epoches\n",
            "24/200 epoches\n",
            "25/200 epoches\n",
            "26/200 epoches\n",
            "27/200 epoches\n",
            "28/200 epoches\n",
            "29/200 epoches\n",
            "30/200 epoches\n",
            "31/200 epoches\n",
            "32/200 epoches\n",
            "33/200 epoches\n",
            "34/200 epoches\n",
            "35/200 epoches\n",
            "36/200 epoches\n",
            "37/200 epoches\n",
            "38/200 epoches\n",
            "39/200 epoches\n",
            "40/200 epoches\n",
            "41/200 epoches\n",
            "42/200 epoches\n",
            "43/200 epoches\n",
            "44/200 epoches\n",
            "45/200 epoches\n",
            "46/200 epoches\n",
            "47/200 epoches\n",
            "48/200 epoches\n",
            "49/200 epoches\n",
            "50/200 epoches\n",
            "51/200 epoches\n",
            "52/200 epoches\n",
            "53/200 epoches\n",
            "54/200 epoches\n",
            "55/200 epoches\n",
            "56/200 epoches\n",
            "57/200 epoches\n",
            "58/200 epoches\n",
            "59/200 epoches\n",
            "60/200 epoches\n",
            "61/200 epoches\n",
            "62/200 epoches\n",
            "63/200 epoches\n",
            "64/200 epoches\n",
            "65/200 epoches\n",
            "66/200 epoches\n",
            "67/200 epoches\n",
            "68/200 epoches\n",
            "69/200 epoches\n",
            "70/200 epoches\n",
            "71/200 epoches\n",
            "72/200 epoches\n",
            "73/200 epoches\n",
            "74/200 epoches\n",
            "75/200 epoches\n",
            "76/200 epoches\n",
            "77/200 epoches\n",
            "78/200 epoches\n",
            "79/200 epoches\n",
            "80/200 epoches\n",
            "81/200 epoches\n",
            "82/200 epoches\n",
            "83/200 epoches\n",
            "84/200 epoches\n",
            "85/200 epoches\n",
            "86/200 epoches\n",
            "87/200 epoches\n",
            "88/200 epoches\n",
            "89/200 epoches\n",
            "90/200 epoches\n",
            "91/200 epoches\n",
            "92/200 epoches\n",
            "93/200 epoches\n",
            "94/200 epoches\n",
            "95/200 epoches\n",
            "96/200 epoches\n",
            "97/200 epoches\n",
            "98/200 epoches\n",
            "99/200 epoches\n",
            "100/200 epoches\n",
            "101/200 epoches\n",
            "102/200 epoches\n",
            "103/200 epoches\n",
            "104/200 epoches\n",
            "105/200 epoches\n",
            "106/200 epoches\n",
            "107/200 epoches\n",
            "108/200 epoches\n",
            "109/200 epoches\n",
            "110/200 epoches\n",
            "111/200 epoches\n",
            "112/200 epoches\n",
            "113/200 epoches\n",
            "114/200 epoches\n",
            "115/200 epoches\n",
            "116/200 epoches\n",
            "117/200 epoches\n",
            "118/200 epoches\n",
            "119/200 epoches\n",
            "120/200 epoches\n",
            "121/200 epoches\n",
            "122/200 epoches\n",
            "123/200 epoches\n",
            "124/200 epoches\n",
            "125/200 epoches\n",
            "126/200 epoches\n",
            "127/200 epoches\n",
            "128/200 epoches\n",
            "129/200 epoches\n",
            "130/200 epoches\n",
            "131/200 epoches\n",
            "132/200 epoches\n",
            "133/200 epoches\n",
            "134/200 epoches\n",
            "135/200 epoches\n",
            "136/200 epoches\n",
            "137/200 epoches\n",
            "138/200 epoches\n",
            "139/200 epoches\n",
            "140/200 epoches\n",
            "141/200 epoches\n",
            "142/200 epoches\n",
            "143/200 epoches\n",
            "144/200 epoches\n",
            "145/200 epoches\n",
            "146/200 epoches\n",
            "147/200 epoches\n",
            "148/200 epoches\n",
            "149/200 epoches\n",
            "150/200 epoches\n",
            "151/200 epoches\n",
            "152/200 epoches\n",
            "153/200 epoches\n",
            "154/200 epoches\n",
            "155/200 epoches\n",
            "156/200 epoches\n",
            "157/200 epoches\n",
            "158/200 epoches\n",
            "159/200 epoches\n",
            "160/200 epoches\n",
            "161/200 epoches\n",
            "162/200 epoches\n",
            "163/200 epoches\n",
            "164/200 epoches\n",
            "165/200 epoches\n",
            "166/200 epoches\n",
            "167/200 epoches\n",
            "168/200 epoches\n",
            "169/200 epoches\n",
            "170/200 epoches\n",
            "171/200 epoches\n",
            "172/200 epoches\n",
            "173/200 epoches\n",
            "174/200 epoches\n",
            "175/200 epoches\n",
            "176/200 epoches\n",
            "177/200 epoches\n",
            "178/200 epoches\n",
            "179/200 epoches\n",
            "180/200 epoches\n",
            "181/200 epoches\n",
            "182/200 epoches\n",
            "183/200 epoches\n",
            "184/200 epoches\n",
            "185/200 epoches\n",
            "186/200 epoches\n",
            "187/200 epoches\n",
            "188/200 epoches\n",
            "189/200 epoches\n",
            "190/200 epoches\n",
            "191/200 epoches\n",
            "192/200 epoches\n",
            "193/200 epoches\n",
            "194/200 epoches\n",
            "195/200 epoches\n",
            "196/200 epoches\n",
            "197/200 epoches\n",
            "198/200 epoches\n",
            "199/200 epoches\n"
          ],
          "name": "stdout"
        }
      ]
    },
    {
      "cell_type": "code",
      "metadata": {
        "id": "kW_Rk50Yt53S",
        "outputId": "dc72ec99-ed6a-4c96-9f41-152a1d21db6d",
        "colab": {
          "base_uri": "https://localhost:8080/",
          "height": 282
        }
      },
      "source": [
        "fake_image = generator(np.random.uniform(-1,1, size = (1, 100)))\n",
        "plt.imshow(tf.reshape(fake_image, shape = (28,28)), cmap=\"gray\")"
      ],
      "execution_count": null,
      "outputs": [
        {
          "output_type": "execute_result",
          "data": {
            "text/plain": [
              "<matplotlib.image.AxesImage at 0x7f90ecc3e550>"
            ]
          },
          "metadata": {
            "tags": []
          },
          "execution_count": 45
        },
        {
          "output_type": "display_data",
          "data": {
            "image/png": "[encoded data removed]",
            "text/plain": [
              "<Figure size 432x288 with 1 Axes>"
            ]
          },
          "metadata": {
            "tags": [],
            "needs_background": "light"
          }
        }
      ]
    }
  ]
}