{
  "nbformat": 4,
  "nbformat_minor": 0,
  "metadata": {
    "colab": {
      "name": "HandwrittenClassifierMnist.ipynb",
      "provenance": [],
      "collapsed_sections": [],
      "include_colab_link": true
    },
    "kernelspec": {
      "name": "python3",
      "display_name": "Python 3"
    }
  },
  "cells": [
    {
      "cell_type": "markdown",
      "metadata": {
        "id": "view-in-github",
        "colab_type": "text"
      },
      "source": [
        "<a href=\"https://colab.research.google.com/github/RafaBessa/Learning_NeuralNets/blob/master/HandwrittenClassifierMnist.ipynb\" target=\"_parent\"><img src=\"https://colab.research.google.com/assets/colab-badge.svg\" alt=\"Open In Colab\"/></a>"
      ]
    },
    {
      "cell_type": "markdown",
      "metadata": {
        "id": "0yFbhRYOhKlv",
        "colab_type": "text"
      },
      "source": [
        "Link seguido - https://medium.com/@mjbhobe/mnist-digits-classification-with-keras-ed6c2374bd0e\n"
      ]
    },
    {
      "cell_type": "code",
      "metadata": {
        "id": "lIjZCpjb_y4V",
        "colab_type": "code",
        "colab": {}
      },
      "source": [
        "#from numpy import loadtxt\n",
        "from keras.datasets import mnist\n",
        "from keras.models import Sequential\n",
        "from keras.layers import Dense\n",
        "from keras.layers import  Conv2D, MaxPooling2D, Flatten, Dense, Dropout\n",
        "from google.colab import files\n",
        "import numpy as np\n",
        "#import io\n",
        "import matplotlib.pyplot as plt\n",
        "%matplotlib inline \n",
        "#import pandas as pd\n",
        "from PIL import Image\n",
        "from keras.utils import to_categorical\n",
        "from sklearn.model_selection import train_test_split"
      ],
      "execution_count": 0,
      "outputs": []
    },
    {
      "cell_type": "code",
      "metadata": {
        "id": "Aoj18rpqAOP-",
        "colab_type": "code",
        "colab": {
          "base_uri": "https://localhost:8080/",
          "height": 314
        },
        "outputId": "86b9c6c0-a568-4e51-b885-bf2887f9090e"
      },
      "source": [
        "\n",
        "#Getting data\n",
        "(x_train, y_train), (x_test, y_test)= mnist.load_data()\n",
        "\n",
        "#display numbers\n",
        "sample_digits = x_train[0:14]\n",
        "sample_labels = y_train[0:14]\n",
        "\n",
        "rows = 2\n",
        "cols=7\n",
        "f, ax = plt.subplots(rows,cols,figsize=(12,5),\n",
        "                     gridspec_kw={\"wspace\":0.03,'hspace':0.01},\n",
        "                    squeeze = True)\n",
        "\n",
        "for r in range(rows):\n",
        "  for c in range(cols):\n",
        "    image_index = r*7+c\n",
        "    ax[r,c].axis('off')\n",
        "    ax[r,c].imshow(sample_digits[image_index],cmap='gray')\n",
        "    ax[r,c].set_title('No. %d' %sample_labels[image_index])\n",
        "plt.show()"
      ],
      "execution_count": 124,
      "outputs": [
        {
          "output_type": "display_data",
          "data": {
            "image/png": "[encoded data removed]",
            "text/plain": [
              "<Figure size 864x360 with 14 Axes>"
            ]
          },
          "metadata": {
            "tags": []
          }
        }
      ]
    },
    {
      "cell_type": "code",
      "metadata": {
        "id": "DMRUPxUejEtu",
        "colab_type": "code",
        "colab": {
          "base_uri": "https://localhost:8080/",
          "height": 85
        },
        "outputId": "26b30018-4b51-4ab7-b0ca-02636aded635"
      },
      "source": [
        "#Reshaping Data\n",
        "#shape(Num_samples,img_Height,img_width,num_channels)\n",
        "print(x_train.shape)\n",
        "\n",
        "img_height = x_train.shape[1]\n",
        "img_width = x_train.shape[2]\n",
        "num_channels = 1 #Numero de matriz que serao formados por imagem\n",
        "                 #Como a imagem esta em preto e branco, temos uma matriz\n",
        "                 #Caso img RGB, tem-se 3 channels, um para cada gradiente\n",
        "    \n",
        "x_train = np.reshape(x_train, (x_train.shape[0],img_height,img_width,num_channels))\n",
        "x_test = np.reshape(x_test, (x_test.shape[0],img_height,img_width,num_channels))\n",
        "\n",
        "print(x_train.shape)\n",
        "\n",
        "#Re-scale para que os valores estejam entre 0-1\n",
        "x_train = x_train.astype('float32')/255\n",
        "x_test = x_test.astype('float32')/255\n",
        "\n",
        "#transformar minhas saidas em vetor binario categorico\n",
        "#https://keras.io/utils/#to_categorical\n",
        "num_classes = 10\n",
        "y_train = to_categorical(y_train,num_classes)\n",
        "y_test = to_categorical(y_test,num_classes)\n",
        "\n",
        "print(y_train.shape)\n",
        "print(y_test.shape)\n",
        "#separando o teste em teste e validacao\n",
        "x_test, x_val, y_test, y_val = train_test_split(x_test, y_test, test_size=0.1)\n"
      ],
      "execution_count": 128,
      "outputs": [
        {
          "output_type": "stream",
          "text": [
            "(60000, 28, 28, 1)\n",
            "(60000, 28, 28, 1)\n",
            "(60000, 10)\n",
            "(9000, 10)\n"
          ],
          "name": "stdout"
        }
      ]
    },
    {
      "cell_type": "code",
      "metadata": {
        "id": "q6fQmKfKFh3S",
        "colab_type": "code",
        "colab": {
          "base_uri": "https://localhost:8080/",
          "height": 71
        },
        "outputId": "4275a241-1754-4c2f-f743-a3831cd05925"
      },
      "source": [
        "#Define model\n",
        "#conv2d -> forma de convolucionar imagens (CNN)\n",
        "#MaxPooling2d -> comprime a imagem, dividindo ela em quadrantes, e gerando uma \n",
        "#nova imagem com o maior valor de cada quadrante\n",
        "\n",
        "model = Sequential()\n",
        "model.add(Conv2D(filters=32, kernel_size=(3,3), activation='relu', padding='same', input_shape=(img_height, img_width,num_channels)))\n",
        "model.add(MaxPooling2D(pool_size=(2,2)))\n",
        "model.add(Conv2D(filters=64, kernel_size=(3,3), activation='relu', padding='same'))\n",
        "model.add(MaxPooling2D(pool_size=(2,2)))\n",
        "model.add(Conv2D(filters=64, kernel_size=(3,3), activation='relu', padding='same'))\n",
        "model.add(MaxPooling2D(pool_size=(2,2)))    \n",
        "model.add(Flatten())\n",
        "# Densely connected layers\n",
        "model.add(Dense(128, activation='relu'))\n",
        "# output layer\n",
        "model.add(Dense(num_classes, activation='softmax'))\n",
        "#compiling model\n",
        "model.compile(loss='categorical_crossentropy',optimizer='adam',metrics=['accuracy'])\n"
      ],
      "execution_count": 129,
      "outputs": [
        {
          "output_type": "stream",
          "text": [
            "WARNING:tensorflow:From /usr/local/lib/python3.6/dist-packages/keras/backend/tensorflow_backend.py:4267: The name tf.nn.max_pool is deprecated. Please use tf.nn.max_pool2d instead.\n",
            "\n"
          ],
          "name": "stdout"
        }
      ]
    },
    {
      "cell_type": "code",
      "metadata": {
        "id": "E767bWsaGVYG",
        "colab_type": "code",
        "colab": {
          "base_uri": "https://localhost:8080/",
          "height": 156
        },
        "outputId": "050ab2e9-e295-465c-ab02-f93fdeb5878c"
      },
      "source": [
        "#treinando a rede\n",
        "FitModel = model.fit(x_train,y_train,epochs=10,batch_size=128,validation_data=(x_test, y_test))\n"
      ],
      "execution_count": 0,
      "outputs": [
        {
          "output_type": "stream",
          "text": [
            "Train on 60000 samples, validate on 8100 samples\n",
            "Epoch 1/10\n",
            "60000/60000 [==============================] - 79s 1ms/step - loss: 0.0190 - acc: 0.9941 - val_loss: 0.0345 - val_acc: 0.9881\n",
            "Epoch 2/10\n",
            "60000/60000 [==============================] - 79s 1ms/step - loss: 0.0172 - acc: 0.9944 - val_loss: 0.0392 - val_acc: 0.9890\n",
            "Epoch 3/10\n",
            "37376/60000 [=================>............] - ETA: 28s - loss: 0.0154 - acc: 0.9951"
          ],
          "name": "stdout"
        }
      ]
    },
    {
      "cell_type": "code",
      "metadata": {
        "id": "WPz-RcOaI6xA",
        "colab_type": "code",
        "colab": {
          "base_uri": "https://localhost:8080/",
          "height": 51
        },
        "outputId": "255b7043-424d-4cbb-8bf1-0b6d4cbc2eab"
      },
      "source": [
        "#evaluate the keras model\n",
        "\n",
        "_, accuracy = model.evaluate(x_test,y_test)\n",
        "print('Accuracy: %.2f' % (accuracy*100))"
      ],
      "execution_count": 131,
      "outputs": [
        {
          "output_type": "stream",
          "text": [
            "8100/8100 [==============================] - 3s 423us/step\n",
            "Accuracy: 98.60\n"
          ],
          "name": "stdout"
        }
      ]
    },
    {
      "cell_type": "code",
      "metadata": {
        "id": "3mJ9-8DvI7xR",
        "colab_type": "code",
        "colab": {
          "base_uri": "https://localhost:8080/",
          "height": 375
        },
        "outputId": "b904056e-60ac-4705-a9fc-f4f5cca4ee49"
      },
      "source": [
        "#print(FitModel.history)\n",
        "\n",
        "plt.figure(figsize=(20, 5))\n",
        "plt.plot(FitModel.history['loss'], color='blue')\n",
        "plt.plot(FitModel.history['val_loss'], color='red')\n",
        "plt.title('Model loss', fontsize=20)\n",
        "plt.ylabel('loss')\n",
        "plt.xlabel('epoch')\n",
        "plt.legend(['Treinamento', 'Validação'], loc='upper right', fontsize=14)\n",
        "plt.show()"
      ],
      "execution_count": 132,
      "outputs": [
        {
          "output_type": "display_data",
          "data": {
            "image/png": "[encoded data removed]",
            "text/plain": [
              "<Figure size 1440x360 with 1 Axes>"
            ]
          },
          "metadata": {
            "tags": []
          }
        }
      ]
    }
  ]
}