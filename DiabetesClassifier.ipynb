{
  "nbformat": 4,
  "nbformat_minor": 0,
  "metadata": {
    "colab": {
      "name": "DiabetesClassifier.ipynb",
      "provenance": [],
      "collapsed_sections": [],
      "include_colab_link": true
    },
    "kernelspec": {
      "name": "python3",
      "display_name": "Python 3"
    }
  },
  "cells": [
    {
      "cell_type": "markdown",
      "metadata": {
        "id": "view-in-github",
        "colab_type": "text"
      },
      "source": [
        "<a href=\"https://colab.research.google.com/github/RafaBessa/Learning_NeuralNets/blob/master/DiabetesClassifier.ipynb\" target=\"_parent\"><img src=\"https://colab.research.google.com/assets/colab-badge.svg\" alt=\"Open In Colab\"/></a>"
      ]
    },
    {
      "cell_type": "markdown",
      "metadata": {
        "id": "KKWWEitKkhyP",
        "colab_type": "text"
      },
      "source": [
        "link do tutorial https://machinelearningmastery.com/tutorial-first-neural-network-python-keras/"
      ]
    },
    {
      "cell_type": "markdown",
      "metadata": {
        "id": "9e9yVMm1B3_K",
        "colab_type": "text"
      },
      "source": [
        "RoadMap - keras net\n",
        "1. Load Data\n",
        "2. Define NeuralNet\n",
        "3. Compile Keras\n",
        "4.Train the model\n",
        "5. Evaluate the model\n",
        "6. Make predictions with the model"
      ]
    },
    {
      "cell_type": "code",
      "metadata": {
        "id": "VsjxvY-bkXBe",
        "colab_type": "code",
        "colab": {}
      },
      "source": [
        "from numpy import loadtxt\n",
        "from keras.models import Sequential\n",
        "from keras.layers import Dense\n",
        "from google.colab import files\n",
        "import numpy as np\n",
        "import io\n",
        "import matplotlib.pyplot as plt\n",
        "%matplotlib inline \n",
        "import pandas as pd"
      ],
      "execution_count": 0,
      "outputs": []
    },
    {
      "cell_type": "code",
      "metadata": {
        "id": "ONE1fkqxxFaP",
        "colab_type": "code",
        "colab": {
          "resources": {
            "http://localhost:8080/nbextensions/google.colab/files.js": {
              "data": "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",
              "ok": true,
              "headers": [
                [
                  "content-type",
                  "application/javascript"
                ]
              ],
              "status": 200,
              "status_text": ""
            }
          },
          "base_uri": "https://localhost:8080/",
          "height": 74
        },
        "outputId": "122cb6c5-7e6f-4ced-e5a0-4f0bdd21e2c1"
      },
      "source": [
        "uploaded = files.upload()\n",
        "#print(uploaded)\n",
        "df2 = pd.read_csv(io.BytesIO(uploaded['diabetes.csv']))\n",
        "#print(df2)\n"
      ],
      "execution_count": 7,
      "outputs": [
        {
          "output_type": "display_data",
          "data": {
            "text/html": [
              "\n",
              "     <input type=\"file\" id=\"files-fe76f5f2-d696-4f24-847c-91c1d4e3d20a\" name=\"files[]\" multiple disabled />\n",
              "     <output id=\"result-fe76f5f2-d696-4f24-847c-91c1d4e3d20a\">\n",
              "      Upload widget is only available when the cell has been executed in the\n",
              "      current browser session. Please rerun this cell to enable.\n",
              "      </output>\n",
              "      <script src=\"/nbextensions/google.colab/files.js\"></script> "
            ],
            "text/plain": [
              "<IPython.core.display.HTML object>"
            ]
          },
          "metadata": {
            "tags": []
          }
        },
        {
          "output_type": "stream",
          "text": [
            "Saving diabetes.csv to diabetes (4).csv\n"
          ],
          "name": "stdout"
        }
      ]
    },
    {
      "cell_type": "code",
      "metadata": {
        "id": "U47GFW4mk9ok",
        "colab_type": "code",
        "colab": {
          "base_uri": "https://localhost:8080/",
          "height": 34
        },
        "outputId": "6293dace-2e9e-40c9-b53c-bb1a3883f7ce"
      },
      "source": [
        "dataset = df2.values\n",
        "#print(dataset)\n",
        "x = dataset[:,0:8]\n",
        "y = dataset[:,8]\n",
        "#separating into test and validation\n",
        "x_val = x[0:10,:]\n",
        "y_val = y[0:10]\n",
        "x = x[10:,:]\n",
        "y = y[10:]\n",
        "print(len(x))"
      ],
      "execution_count": 25,
      "outputs": [
        {
          "output_type": "stream",
          "text": [
            "757\n"
          ],
          "name": "stdout"
        }
      ]
    },
    {
      "cell_type": "code",
      "metadata": {
        "id": "pERaohIv40sp",
        "colab_type": "code",
        "colab": {
          "base_uri": "https://localhost:8080/",
          "height": 139
        },
        "outputId": "bc0d61ed-2f66-40de-f0bc-29df5f4e2c31"
      },
      "source": [
        "#define The keras Model\n",
        "\n",
        "\n",
        "model = Sequential()\n",
        "model.add(Dense(12, input_dim=8,activation='relu'))\n",
        "model.add(Dense(8,activation='relu'))\n",
        "model.add(Dense(1,activation='sigmoid'))\n",
        "\n",
        "\n",
        "#he most confusing thing here is that the shape of the\n",
        "#input to the model lis defined as an argument on the first hidden layer. \n",
        "#This means that the line of code that adds the first Dense layer is doing \n",
        "#2 things, defining the input or visible layer and the first hidden layer."
      ],
      "execution_count": 9,
      "outputs": [
        {
          "output_type": "stream",
          "text": [
            "WARNING:tensorflow:From /usr/local/lib/python3.6/dist-packages/keras/backend/tensorflow_backend.py:66: The name tf.get_default_graph is deprecated. Please use tf.compat.v1.get_default_graph instead.\n",
            "\n",
            "WARNING:tensorflow:From /usr/local/lib/python3.6/dist-packages/keras/backend/tensorflow_backend.py:541: The name tf.placeholder is deprecated. Please use tf.compat.v1.placeholder instead.\n",
            "\n",
            "WARNING:tensorflow:From /usr/local/lib/python3.6/dist-packages/keras/backend/tensorflow_backend.py:4432: The name tf.random_uniform is deprecated. Please use tf.random.uniform instead.\n",
            "\n"
          ],
          "name": "stdout"
        }
      ]
    },
    {
      "cell_type": "code",
      "metadata": {
        "id": "a_ddSETG8zNU",
        "colab_type": "code",
        "colab": {
          "base_uri": "https://localhost:8080/",
          "height": 156
        },
        "outputId": "4031a86c-7e6d-4d4d-c3ba-f86c482d919d"
      },
      "source": [
        "#compile the keras model\n",
        "\n",
        "model.compile(loss='binary_crossentropy',optimizer='adam',metrics=['accuracy'])"
      ],
      "execution_count": 10,
      "outputs": [
        {
          "output_type": "stream",
          "text": [
            "WARNING:tensorflow:From /usr/local/lib/python3.6/dist-packages/keras/optimizers.py:793: The name tf.train.Optimizer is deprecated. Please use tf.compat.v1.train.Optimizer instead.\n",
            "\n",
            "WARNING:tensorflow:From /usr/local/lib/python3.6/dist-packages/keras/backend/tensorflow_backend.py:3657: The name tf.log is deprecated. Please use tf.math.log instead.\n",
            "\n",
            "WARNING:tensorflow:From /usr/local/lib/python3.6/dist-packages/tensorflow/python/ops/nn_impl.py:180: add_dispatch_support.<locals>.wrapper (from tensorflow.python.ops.array_ops) is deprecated and will be removed in a future version.\n",
            "Instructions for updating:\n",
            "Use tf.where in 2.0, which has the same broadcast rule as np.where\n"
          ],
          "name": "stdout"
        }
      ]
    },
    {
      "cell_type": "code",
      "metadata": {
        "id": "03qsN_px94K7",
        "colab_type": "code",
        "colab": {
          "base_uri": "https://localhost:8080/",
          "height": 1000
        },
        "outputId": "c833e75d-4e22-4a41-d9d3-90b793d4a7f1"
      },
      "source": [
        "#fit the keras model on dataset\n",
        "\n",
        "FitModel = model.fit(x,y,epochs=150,batch_size=10,validation_data=(x, y))\n",
        "#x ->entrada/ y->saida esperada/ \n",
        "#Epochs -> quantas vzs o dataset sera usado\n",
        "#batch_size -> quantas linha do dataset serao usados antes de atualizar os pesos\n",
        "#validation_data -> dataset de test"
      ],
      "execution_count": 28,
      "outputs": [
        {
          "output_type": "stream",
          "text": [
            "Train on 757 samples, validate on 757 samples\n",
            "Epoch 1/150\n",
            "757/757 [==============================] - 0s 203us/step - loss: 0.4166 - acc: 0.8018 - val_loss: 0.3933 - val_acc: 0.8111\n",
            "Epoch 2/150\n",
            "757/757 [==============================] - 0s 190us/step - loss: 0.4118 - acc: 0.8005 - val_loss: 0.3741 - val_acc: 0.8375\n",
            "Epoch 3/150\n",
            "757/757 [==============================] - 0s 180us/step - loss: 0.3975 - acc: 0.8164 - val_loss: 0.3868 - val_acc: 0.8098\n",
            "Epoch 4/150\n",
            "757/757 [==============================] - 0s 180us/step - loss: 0.4147 - acc: 0.7952 - val_loss: 0.3903 - val_acc: 0.8071\n",
            "Epoch 5/150\n",
            "757/757 [==============================] - 0s 176us/step - loss: 0.4231 - acc: 0.7952 - val_loss: 0.3836 - val_acc: 0.8124\n",
            "Epoch 6/150\n",
            "757/757 [==============================] - 0s 173us/step - loss: 0.4135 - acc: 0.8058 - val_loss: 0.3951 - val_acc: 0.8190\n",
            "Epoch 7/150\n",
            "757/757 [==============================] - 0s 177us/step - loss: 0.3952 - acc: 0.8217 - val_loss: 0.3822 - val_acc: 0.8203\n",
            "Epoch 8/150\n",
            "757/757 [==============================] - 0s 179us/step - loss: 0.3999 - acc: 0.8124 - val_loss: 0.4242 - val_acc: 0.7913\n",
            "Epoch 9/150\n",
            "757/757 [==============================] - 0s 176us/step - loss: 0.4041 - acc: 0.8137 - val_loss: 0.3879 - val_acc: 0.8283\n",
            "Epoch 10/150\n",
            "757/757 [==============================] - 0s 187us/step - loss: 0.4089 - acc: 0.8018 - val_loss: 0.4092 - val_acc: 0.7966\n",
            "Epoch 11/150\n",
            "757/757 [==============================] - 0s 175us/step - loss: 0.4114 - acc: 0.8071 - val_loss: 0.3768 - val_acc: 0.8256\n",
            "Epoch 12/150\n",
            "757/757 [==============================] - 0s 178us/step - loss: 0.4275 - acc: 0.7860 - val_loss: 0.4364 - val_acc: 0.7926\n",
            "Epoch 13/150\n",
            "757/757 [==============================] - 0s 170us/step - loss: 0.4043 - acc: 0.8164 - val_loss: 0.3885 - val_acc: 0.8283\n",
            "Epoch 14/150\n",
            "757/757 [==============================] - 0s 189us/step - loss: 0.4383 - acc: 0.7860 - val_loss: 0.6175 - val_acc: 0.7081\n",
            "Epoch 15/150\n",
            "757/757 [==============================] - 0s 174us/step - loss: 0.4175 - acc: 0.7913 - val_loss: 0.4002 - val_acc: 0.8032\n",
            "Epoch 16/150\n",
            "757/757 [==============================] - 0s 180us/step - loss: 0.4152 - acc: 0.7860 - val_loss: 0.4577 - val_acc: 0.7886\n",
            "Epoch 17/150\n",
            "757/757 [==============================] - 0s 174us/step - loss: 0.4106 - acc: 0.7992 - val_loss: 0.3815 - val_acc: 0.8230\n",
            "Epoch 18/150\n",
            "757/757 [==============================] - 0s 179us/step - loss: 0.4049 - acc: 0.8137 - val_loss: 0.4155 - val_acc: 0.7966\n",
            "Epoch 19/150\n",
            "757/757 [==============================] - 0s 177us/step - loss: 0.4046 - acc: 0.8124 - val_loss: 0.3752 - val_acc: 0.8269\n",
            "Epoch 20/150\n",
            "757/757 [==============================] - 0s 178us/step - loss: 0.3955 - acc: 0.8177 - val_loss: 0.3736 - val_acc: 0.8322\n",
            "Epoch 21/150\n",
            "757/757 [==============================] - 0s 172us/step - loss: 0.3992 - acc: 0.8164 - val_loss: 0.4323 - val_acc: 0.7900\n",
            "Epoch 22/150\n",
            "757/757 [==============================] - 0s 178us/step - loss: 0.4520 - acc: 0.8018 - val_loss: 0.4012 - val_acc: 0.8269\n",
            "Epoch 23/150\n",
            "757/757 [==============================] - 0s 172us/step - loss: 0.4285 - acc: 0.7926 - val_loss: 0.3900 - val_acc: 0.8085\n",
            "Epoch 24/150\n",
            "757/757 [==============================] - 0s 180us/step - loss: 0.4302 - acc: 0.7900 - val_loss: 0.3898 - val_acc: 0.8111\n",
            "Epoch 25/150\n",
            "757/757 [==============================] - 0s 184us/step - loss: 0.4071 - acc: 0.8058 - val_loss: 0.3774 - val_acc: 0.8269\n",
            "Epoch 26/150\n",
            "757/757 [==============================] - 0s 188us/step - loss: 0.4117 - acc: 0.8005 - val_loss: 0.3764 - val_acc: 0.8190\n",
            "Epoch 27/150\n",
            "757/757 [==============================] - 0s 173us/step - loss: 0.4058 - acc: 0.8151 - val_loss: 0.3893 - val_acc: 0.8124\n",
            "Epoch 28/150\n",
            "757/757 [==============================] - 0s 172us/step - loss: 0.4080 - acc: 0.8045 - val_loss: 0.3981 - val_acc: 0.8269\n",
            "Epoch 29/150\n",
            "757/757 [==============================] - 0s 173us/step - loss: 0.4051 - acc: 0.8190 - val_loss: 0.3784 - val_acc: 0.8256\n",
            "Epoch 30/150\n",
            "757/757 [==============================] - 0s 174us/step - loss: 0.3988 - acc: 0.8085 - val_loss: 0.4002 - val_acc: 0.8203\n",
            "Epoch 31/150\n",
            "757/757 [==============================] - 0s 179us/step - loss: 0.4079 - acc: 0.7992 - val_loss: 0.3787 - val_acc: 0.8322\n",
            "Epoch 32/150\n",
            "757/757 [==============================] - 0s 173us/step - loss: 0.4072 - acc: 0.8111 - val_loss: 0.3767 - val_acc: 0.8296\n",
            "Epoch 33/150\n",
            "757/757 [==============================] - 0s 180us/step - loss: 0.4043 - acc: 0.8045 - val_loss: 0.3919 - val_acc: 0.8243\n",
            "Epoch 34/150\n",
            "757/757 [==============================] - 0s 178us/step - loss: 0.3986 - acc: 0.8124 - val_loss: 0.3907 - val_acc: 0.8085\n",
            "Epoch 35/150\n",
            "757/757 [==============================] - 0s 180us/step - loss: 0.3986 - acc: 0.8164 - val_loss: 0.3805 - val_acc: 0.8203\n",
            "Epoch 36/150\n",
            "757/757 [==============================] - 0s 177us/step - loss: 0.3861 - acc: 0.8203 - val_loss: 0.3779 - val_acc: 0.8137\n",
            "Epoch 37/150\n",
            "757/757 [==============================] - 0s 182us/step - loss: 0.4006 - acc: 0.8045 - val_loss: 0.4128 - val_acc: 0.8085\n",
            "Epoch 38/150\n",
            "757/757 [==============================] - 0s 173us/step - loss: 0.3958 - acc: 0.8256 - val_loss: 0.3811 - val_acc: 0.8256\n",
            "Epoch 39/150\n",
            "757/757 [==============================] - 0s 179us/step - loss: 0.3958 - acc: 0.8177 - val_loss: 0.3791 - val_acc: 0.8296\n",
            "Epoch 40/150\n",
            "757/757 [==============================] - 0s 173us/step - loss: 0.4503 - acc: 0.7820 - val_loss: 0.3953 - val_acc: 0.8243\n",
            "Epoch 41/150\n",
            "757/757 [==============================] - 0s 178us/step - loss: 0.4034 - acc: 0.8137 - val_loss: 0.3962 - val_acc: 0.8098\n",
            "Epoch 42/150\n",
            "757/757 [==============================] - 0s 174us/step - loss: 0.4167 - acc: 0.7952 - val_loss: 0.3791 - val_acc: 0.8388\n",
            "Epoch 43/150\n",
            "757/757 [==============================] - 0s 187us/step - loss: 0.4001 - acc: 0.8085 - val_loss: 0.4061 - val_acc: 0.8137\n",
            "Epoch 44/150\n",
            "757/757 [==============================] - 0s 175us/step - loss: 0.3915 - acc: 0.8137 - val_loss: 0.3701 - val_acc: 0.8336\n",
            "Epoch 45/150\n",
            "757/757 [==============================] - 0s 178us/step - loss: 0.4046 - acc: 0.8230 - val_loss: 0.4096 - val_acc: 0.8098\n",
            "Epoch 46/150\n",
            "757/757 [==============================] - 0s 176us/step - loss: 0.3904 - acc: 0.8085 - val_loss: 0.4613 - val_acc: 0.7913\n",
            "Epoch 47/150\n",
            "757/757 [==============================] - 0s 192us/step - loss: 0.3991 - acc: 0.8230 - val_loss: 0.3758 - val_acc: 0.8269\n",
            "Epoch 48/150\n",
            "757/757 [==============================] - 0s 176us/step - loss: 0.4027 - acc: 0.8085 - val_loss: 0.3701 - val_acc: 0.8309\n",
            "Epoch 49/150\n",
            "757/757 [==============================] - 0s 173us/step - loss: 0.3915 - acc: 0.8217 - val_loss: 0.4001 - val_acc: 0.8124\n",
            "Epoch 50/150\n",
            "757/757 [==============================] - 0s 177us/step - loss: 0.4214 - acc: 0.8058 - val_loss: 0.3931 - val_acc: 0.8151\n",
            "Epoch 51/150\n",
            "757/757 [==============================] - 0s 178us/step - loss: 0.4076 - acc: 0.8032 - val_loss: 0.3928 - val_acc: 0.8203\n",
            "Epoch 52/150\n",
            "757/757 [==============================] - 0s 173us/step - loss: 0.3983 - acc: 0.8058 - val_loss: 0.4340 - val_acc: 0.8018\n",
            "Epoch 53/150\n",
            "757/757 [==============================] - 0s 183us/step - loss: 0.4155 - acc: 0.8124 - val_loss: 0.3948 - val_acc: 0.8045\n",
            "Epoch 54/150\n",
            "757/757 [==============================] - 0s 185us/step - loss: 0.4272 - acc: 0.8058 - val_loss: 0.3702 - val_acc: 0.8336\n",
            "Epoch 55/150\n",
            "757/757 [==============================] - 0s 185us/step - loss: 0.4175 - acc: 0.7979 - val_loss: 0.3837 - val_acc: 0.8124\n",
            "Epoch 56/150\n",
            "757/757 [==============================] - 0s 178us/step - loss: 0.3986 - acc: 0.8111 - val_loss: 0.3780 - val_acc: 0.8375\n",
            "Epoch 57/150\n",
            "757/757 [==============================] - 0s 187us/step - loss: 0.3985 - acc: 0.8243 - val_loss: 0.3763 - val_acc: 0.8217\n",
            "Epoch 58/150\n",
            "757/757 [==============================] - 0s 185us/step - loss: 0.3863 - acc: 0.8177 - val_loss: 0.3730 - val_acc: 0.8375\n",
            "Epoch 59/150\n",
            "757/757 [==============================] - 0s 185us/step - loss: 0.4050 - acc: 0.8151 - val_loss: 0.3872 - val_acc: 0.8164\n",
            "Epoch 60/150\n",
            "757/757 [==============================] - 0s 179us/step - loss: 0.3968 - acc: 0.8256 - val_loss: 0.3885 - val_acc: 0.8243\n",
            "Epoch 61/150\n",
            "757/757 [==============================] - 0s 183us/step - loss: 0.3949 - acc: 0.8230 - val_loss: 0.3794 - val_acc: 0.8177\n",
            "Epoch 62/150\n",
            "757/757 [==============================] - 0s 175us/step - loss: 0.3986 - acc: 0.8098 - val_loss: 0.3957 - val_acc: 0.8045\n",
            "Epoch 63/150\n",
            "757/757 [==============================] - 0s 175us/step - loss: 0.3968 - acc: 0.8230 - val_loss: 0.3784 - val_acc: 0.8243\n",
            "Epoch 64/150\n",
            "757/757 [==============================] - 0s 170us/step - loss: 0.4083 - acc: 0.8032 - val_loss: 0.4054 - val_acc: 0.8177\n",
            "Epoch 65/150\n",
            "757/757 [==============================] - 0s 192us/step - loss: 0.3984 - acc: 0.8137 - val_loss: 0.3941 - val_acc: 0.8137\n",
            "Epoch 66/150\n",
            "757/757 [==============================] - 0s 172us/step - loss: 0.4006 - acc: 0.8137 - val_loss: 0.3715 - val_acc: 0.8283\n",
            "Epoch 67/150\n",
            "757/757 [==============================] - 0s 178us/step - loss: 0.4039 - acc: 0.8243 - val_loss: 0.4126 - val_acc: 0.8058\n",
            "Epoch 68/150\n",
            "757/757 [==============================] - 0s 172us/step - loss: 0.4104 - acc: 0.7939 - val_loss: 0.3848 - val_acc: 0.8190\n",
            "Epoch 69/150\n",
            "757/757 [==============================] - 0s 184us/step - loss: 0.3995 - acc: 0.8098 - val_loss: 0.4016 - val_acc: 0.8230\n",
            "Epoch 70/150\n",
            "757/757 [==============================] - 0s 178us/step - loss: 0.4036 - acc: 0.8164 - val_loss: 0.3855 - val_acc: 0.8177\n",
            "Epoch 71/150\n",
            "757/757 [==============================] - 0s 184us/step - loss: 0.4026 - acc: 0.8137 - val_loss: 0.4013 - val_acc: 0.8058\n",
            "Epoch 72/150\n",
            "757/757 [==============================] - 0s 186us/step - loss: 0.4037 - acc: 0.8256 - val_loss: 0.3860 - val_acc: 0.8098\n",
            "Epoch 73/150\n",
            "757/757 [==============================] - 0s 181us/step - loss: 0.4198 - acc: 0.7939 - val_loss: 0.3875 - val_acc: 0.8203\n",
            "Epoch 74/150\n",
            "757/757 [==============================] - 0s 180us/step - loss: 0.4010 - acc: 0.8230 - val_loss: 0.3832 - val_acc: 0.8111\n",
            "Epoch 75/150\n",
            "757/757 [==============================] - 0s 193us/step - loss: 0.4006 - acc: 0.8151 - val_loss: 0.3787 - val_acc: 0.8283\n",
            "Epoch 76/150\n",
            "757/757 [==============================] - 0s 186us/step - loss: 0.4035 - acc: 0.8058 - val_loss: 0.3958 - val_acc: 0.8085\n",
            "Epoch 77/150\n",
            "757/757 [==============================] - 0s 182us/step - loss: 0.4752 - acc: 0.7873 - val_loss: 0.3696 - val_acc: 0.8349\n",
            "Epoch 78/150\n",
            "757/757 [==============================] - 0s 185us/step - loss: 0.3921 - acc: 0.8190 - val_loss: 0.3952 - val_acc: 0.8243\n",
            "Epoch 79/150\n",
            "757/757 [==============================] - 0s 191us/step - loss: 0.3969 - acc: 0.8164 - val_loss: 0.3906 - val_acc: 0.8203\n",
            "Epoch 80/150\n",
            "757/757 [==============================] - 0s 178us/step - loss: 0.4068 - acc: 0.8071 - val_loss: 0.3809 - val_acc: 0.8217\n",
            "Epoch 81/150\n",
            "757/757 [==============================] - 0s 182us/step - loss: 0.4043 - acc: 0.8098 - val_loss: 0.4542 - val_acc: 0.7754\n",
            "Epoch 82/150\n",
            "757/757 [==============================] - 0s 183us/step - loss: 0.4172 - acc: 0.8005 - val_loss: 0.3728 - val_acc: 0.8336\n",
            "Epoch 83/150\n",
            "757/757 [==============================] - 0s 177us/step - loss: 0.4104 - acc: 0.8032 - val_loss: 0.3942 - val_acc: 0.8203\n",
            "Epoch 84/150\n",
            "757/757 [==============================] - 0s 170us/step - loss: 0.3963 - acc: 0.8085 - val_loss: 0.4076 - val_acc: 0.8137\n",
            "Epoch 85/150\n",
            "757/757 [==============================] - 0s 176us/step - loss: 0.4021 - acc: 0.8190 - val_loss: 0.3926 - val_acc: 0.8256\n",
            "Epoch 86/150\n",
            "757/757 [==============================] - 0s 174us/step - loss: 0.4142 - acc: 0.8058 - val_loss: 0.3750 - val_acc: 0.8388\n",
            "Epoch 87/150\n",
            "757/757 [==============================] - 0s 177us/step - loss: 0.3957 - acc: 0.8085 - val_loss: 0.3754 - val_acc: 0.8283\n",
            "Epoch 88/150\n",
            "757/757 [==============================] - 0s 181us/step - loss: 0.3910 - acc: 0.8124 - val_loss: 0.4108 - val_acc: 0.8018\n",
            "Epoch 89/150\n",
            "757/757 [==============================] - 0s 180us/step - loss: 0.4237 - acc: 0.8045 - val_loss: 0.3933 - val_acc: 0.8190\n",
            "Epoch 90/150\n",
            "757/757 [==============================] - 0s 177us/step - loss: 0.3958 - acc: 0.8151 - val_loss: 0.3947 - val_acc: 0.8098\n",
            "Epoch 91/150\n",
            "757/757 [==============================] - 0s 185us/step - loss: 0.4080 - acc: 0.8111 - val_loss: 0.3727 - val_acc: 0.8283\n",
            "Epoch 92/150\n",
            "757/757 [==============================] - 0s 175us/step - loss: 0.3964 - acc: 0.8164 - val_loss: 0.3689 - val_acc: 0.8349\n",
            "Epoch 93/150\n",
            "757/757 [==============================] - 0s 181us/step - loss: 0.3921 - acc: 0.8230 - val_loss: 0.3662 - val_acc: 0.8441\n",
            "Epoch 94/150\n",
            "757/757 [==============================] - 0s 173us/step - loss: 0.4210 - acc: 0.8111 - val_loss: 0.3829 - val_acc: 0.8362\n",
            "Epoch 95/150\n",
            "757/757 [==============================] - 0s 183us/step - loss: 0.4136 - acc: 0.8111 - val_loss: 0.3897 - val_acc: 0.8137\n",
            "Epoch 96/150\n",
            "757/757 [==============================] - 0s 172us/step - loss: 0.4045 - acc: 0.8111 - val_loss: 0.3739 - val_acc: 0.8230\n",
            "Epoch 97/150\n",
            "757/757 [==============================] - 0s 188us/step - loss: 0.3874 - acc: 0.8375 - val_loss: 0.3755 - val_acc: 0.8283\n",
            "Epoch 98/150\n",
            "757/757 [==============================] - 0s 177us/step - loss: 0.4013 - acc: 0.8032 - val_loss: 0.4196 - val_acc: 0.8111\n",
            "Epoch 99/150\n",
            "757/757 [==============================] - 0s 170us/step - loss: 0.4004 - acc: 0.8203 - val_loss: 0.4055 - val_acc: 0.8151\n",
            "Epoch 100/150\n",
            "757/757 [==============================] - 0s 177us/step - loss: 0.3861 - acc: 0.8217 - val_loss: 0.3766 - val_acc: 0.8256\n",
            "Epoch 101/150\n",
            "757/757 [==============================] - 0s 174us/step - loss: 0.3956 - acc: 0.8283 - val_loss: 0.3789 - val_acc: 0.8230\n",
            "Epoch 102/150\n",
            "757/757 [==============================] - 0s 172us/step - loss: 0.3972 - acc: 0.8085 - val_loss: 0.4708 - val_acc: 0.7834\n",
            "Epoch 103/150\n",
            "757/757 [==============================] - 0s 179us/step - loss: 0.4035 - acc: 0.8018 - val_loss: 0.5209 - val_acc: 0.7517\n",
            "Epoch 104/150\n",
            "757/757 [==============================] - 0s 169us/step - loss: 0.4209 - acc: 0.8085 - val_loss: 0.3856 - val_acc: 0.8336\n",
            "Epoch 105/150\n",
            "757/757 [==============================] - 0s 175us/step - loss: 0.3950 - acc: 0.8098 - val_loss: 0.3731 - val_acc: 0.8269\n",
            "Epoch 106/150\n",
            "757/757 [==============================] - 0s 177us/step - loss: 0.4025 - acc: 0.8190 - val_loss: 0.3919 - val_acc: 0.8256\n",
            "Epoch 107/150\n",
            "757/757 [==============================] - 0s 188us/step - loss: 0.4041 - acc: 0.8098 - val_loss: 0.3741 - val_acc: 0.8256\n",
            "Epoch 108/150\n",
            "757/757 [==============================] - 0s 174us/step - loss: 0.3951 - acc: 0.8111 - val_loss: 0.4412 - val_acc: 0.8005\n",
            "Epoch 109/150\n",
            "757/757 [==============================] - 0s 175us/step - loss: 0.3970 - acc: 0.8203 - val_loss: 0.4236 - val_acc: 0.7979\n",
            "Epoch 110/150\n",
            "757/757 [==============================] - 0s 180us/step - loss: 0.3981 - acc: 0.8098 - val_loss: 0.3758 - val_acc: 0.8283\n",
            "Epoch 111/150\n",
            "757/757 [==============================] - 0s 171us/step - loss: 0.3930 - acc: 0.8085 - val_loss: 0.3778 - val_acc: 0.8309\n",
            "Epoch 112/150\n",
            "757/757 [==============================] - 0s 187us/step - loss: 0.4038 - acc: 0.8085 - val_loss: 0.3820 - val_acc: 0.8283\n",
            "Epoch 113/150\n",
            "757/757 [==============================] - 0s 176us/step - loss: 0.4011 - acc: 0.8111 - val_loss: 0.3972 - val_acc: 0.8045\n",
            "Epoch 114/150\n",
            "757/757 [==============================] - 0s 178us/step - loss: 0.4047 - acc: 0.7939 - val_loss: 0.3802 - val_acc: 0.8137\n",
            "Epoch 115/150\n",
            "757/757 [==============================] - 0s 170us/step - loss: 0.3908 - acc: 0.8243 - val_loss: 0.4266 - val_acc: 0.7966\n",
            "Epoch 116/150\n",
            "757/757 [==============================] - 0s 173us/step - loss: 0.3946 - acc: 0.8230 - val_loss: 0.3840 - val_acc: 0.8177\n",
            "Epoch 117/150\n",
            "757/757 [==============================] - 0s 174us/step - loss: 0.4071 - acc: 0.8058 - val_loss: 0.3740 - val_acc: 0.8230\n",
            "Epoch 118/150\n",
            "757/757 [==============================] - 0s 183us/step - loss: 0.4007 - acc: 0.8177 - val_loss: 0.3722 - val_acc: 0.8269\n",
            "Epoch 119/150\n",
            "757/757 [==============================] - 0s 180us/step - loss: 0.3839 - acc: 0.8203 - val_loss: 0.4091 - val_acc: 0.7992\n",
            "Epoch 120/150\n",
            "757/757 [==============================] - 0s 180us/step - loss: 0.3939 - acc: 0.8164 - val_loss: 0.3811 - val_acc: 0.8137\n",
            "Epoch 121/150\n",
            "757/757 [==============================] - 0s 178us/step - loss: 0.3889 - acc: 0.8243 - val_loss: 0.3834 - val_acc: 0.8230\n",
            "Epoch 122/150\n",
            "757/757 [==============================] - 0s 187us/step - loss: 0.3981 - acc: 0.8098 - val_loss: 0.3771 - val_acc: 0.8217\n",
            "Epoch 123/150\n",
            "757/757 [==============================] - 0s 186us/step - loss: 0.4194 - acc: 0.8045 - val_loss: 0.3843 - val_acc: 0.8164\n",
            "Epoch 124/150\n",
            "757/757 [==============================] - 0s 178us/step - loss: 0.4104 - acc: 0.7992 - val_loss: 0.3702 - val_acc: 0.8243\n",
            "Epoch 125/150\n",
            "757/757 [==============================] - 0s 171us/step - loss: 0.3965 - acc: 0.8137 - val_loss: 0.3904 - val_acc: 0.8124\n",
            "Epoch 126/150\n",
            "757/757 [==============================] - 0s 175us/step - loss: 0.4014 - acc: 0.8071 - val_loss: 0.3775 - val_acc: 0.8243\n",
            "Epoch 127/150\n",
            "757/757 [==============================] - 0s 180us/step - loss: 0.4050 - acc: 0.8071 - val_loss: 0.4023 - val_acc: 0.8230\n",
            "Epoch 128/150\n",
            "757/757 [==============================] - 0s 175us/step - loss: 0.3934 - acc: 0.8190 - val_loss: 0.4008 - val_acc: 0.8151\n",
            "Epoch 129/150\n",
            "757/757 [==============================] - 0s 180us/step - loss: 0.3929 - acc: 0.8230 - val_loss: 0.3954 - val_acc: 0.8269\n",
            "Epoch 130/150\n",
            "757/757 [==============================] - 0s 176us/step - loss: 0.4016 - acc: 0.8124 - val_loss: 0.3988 - val_acc: 0.8098\n",
            "Epoch 131/150\n",
            "757/757 [==============================] - 0s 180us/step - loss: 0.4084 - acc: 0.8085 - val_loss: 0.3803 - val_acc: 0.8151\n",
            "Epoch 132/150\n",
            "757/757 [==============================] - 0s 183us/step - loss: 0.4020 - acc: 0.8111 - val_loss: 0.3813 - val_acc: 0.8203\n",
            "Epoch 133/150\n",
            "757/757 [==============================] - 0s 204us/step - loss: 0.4045 - acc: 0.8045 - val_loss: 0.3717 - val_acc: 0.8336\n",
            "Epoch 134/150\n",
            "757/757 [==============================] - 0s 185us/step - loss: 0.3941 - acc: 0.8203 - val_loss: 0.3761 - val_acc: 0.8283\n",
            "Epoch 135/150\n",
            "757/757 [==============================] - 0s 189us/step - loss: 0.4216 - acc: 0.8032 - val_loss: 0.3700 - val_acc: 0.8283\n",
            "Epoch 136/150\n",
            "757/757 [==============================] - 0s 173us/step - loss: 0.3936 - acc: 0.8177 - val_loss: 0.3870 - val_acc: 0.8111\n",
            "Epoch 137/150\n",
            "757/757 [==============================] - 0s 175us/step - loss: 0.3872 - acc: 0.8124 - val_loss: 0.3886 - val_acc: 0.8111\n",
            "Epoch 138/150\n",
            "757/757 [==============================] - 0s 173us/step - loss: 0.3935 - acc: 0.8071 - val_loss: 0.3857 - val_acc: 0.8098\n",
            "Epoch 139/150\n",
            "757/757 [==============================] - 0s 177us/step - loss: 0.4158 - acc: 0.7913 - val_loss: 0.4536 - val_acc: 0.7873\n",
            "Epoch 140/150\n",
            "757/757 [==============================] - 0s 176us/step - loss: 0.4272 - acc: 0.8058 - val_loss: 0.3854 - val_acc: 0.8124\n",
            "Epoch 141/150\n",
            "757/757 [==============================] - 0s 179us/step - loss: 0.3931 - acc: 0.8071 - val_loss: 0.3953 - val_acc: 0.8269\n",
            "Epoch 142/150\n",
            "757/757 [==============================] - 0s 175us/step - loss: 0.3930 - acc: 0.8137 - val_loss: 0.3672 - val_acc: 0.8349\n",
            "Epoch 143/150\n",
            "757/757 [==============================] - 0s 172us/step - loss: 0.4020 - acc: 0.8098 - val_loss: 0.3978 - val_acc: 0.8137\n",
            "Epoch 144/150\n",
            "757/757 [==============================] - 0s 178us/step - loss: 0.3995 - acc: 0.8111 - val_loss: 0.3684 - val_acc: 0.8283\n",
            "Epoch 145/150\n",
            "757/757 [==============================] - 0s 178us/step - loss: 0.3926 - acc: 0.8190 - val_loss: 0.3654 - val_acc: 0.8283\n",
            "Epoch 146/150\n",
            "757/757 [==============================] - 0s 178us/step - loss: 0.4187 - acc: 0.8230 - val_loss: 0.3689 - val_acc: 0.8283\n",
            "Epoch 147/150\n",
            "757/757 [==============================] - 0s 172us/step - loss: 0.3949 - acc: 0.8111 - val_loss: 0.4456 - val_acc: 0.7860\n",
            "Epoch 148/150\n",
            "757/757 [==============================] - 0s 187us/step - loss: 0.4101 - acc: 0.8032 - val_loss: 0.4168 - val_acc: 0.7979\n",
            "Epoch 149/150\n",
            "757/757 [==============================] - 0s 176us/step - loss: 0.3959 - acc: 0.8151 - val_loss: 0.3760 - val_acc: 0.8296\n",
            "Epoch 150/150\n",
            "757/757 [==============================] - 0s 176us/step - loss: 0.3840 - acc: 0.8256 - val_loss: 0.3737 - val_acc: 0.8243\n"
          ],
          "name": "stdout"
        }
      ]
    },
    {
      "cell_type": "code",
      "metadata": {
        "id": "OJ8o8wnd-M9q",
        "colab_type": "code",
        "colab": {
          "base_uri": "https://localhost:8080/",
          "height": 51
        },
        "outputId": "42450b24-7932-43be-faa7-e74b1d41184a"
      },
      "source": [
        "#evaluate the keras model\n",
        "\n",
        "_, accuracy = model.evaluate(x,y)\n",
        "print('Accuracy: %.2f' % (accuracy*100))"
      ],
      "execution_count": 30,
      "outputs": [
        {
          "output_type": "stream",
          "text": [
            "757/757 [==============================] - 0s 37us/step\n",
            "Accuracy: 82.43\n"
          ],
          "name": "stdout"
        }
      ]
    },
    {
      "cell_type": "code",
      "metadata": {
        "id": "_512OFX8CbY5",
        "colab_type": "code",
        "colab": {
          "base_uri": "https://localhost:8080/",
          "height": 355
        },
        "outputId": "9d4d11df-11a2-4ff4-eb4e-26be20af4412"
      },
      "source": [
        "#print(FitModel.history)\n",
        "\n",
        "plt.figure(figsize=(20, 5))\n",
        "plt.plot(FitModel.history['loss'], color='blue')\n",
        "plt.plot(FitModel.history['val_loss'], color='red')\n",
        "plt.title('Model loss', fontsize=20)\n",
        "plt.ylabel('loss')\n",
        "plt.xlabel('epoch')\n",
        "plt.legend(['Treinamento', 'Validação'], loc='upper right', fontsize=14)\n",
        "plt.show()"
      ],
      "execution_count": 29,
      "outputs": [
        {
          "output_type": "display_data",
          "data": {
            "image/png": "[encoded data removed]",
            "text/plain": [
              "<Figure size 1440x360 with 1 Axes>"
            ]
          },
          "metadata": {
            "tags": []
          }
        }
      ]
    },
    {
      "cell_type": "code",
      "metadata": {
        "id": "31YtZ4llAsGg",
        "colab_type": "code",
        "colab": {
          "base_uri": "https://localhost:8080/",
          "height": 102
        },
        "outputId": "0b1d11bc-a4ee-41b6-abff-5405f0b4e2c4"
      },
      "source": [
        "#predictions\n",
        "\n",
        "#make probability predictions with the model\n",
        "predictions = model.predict(x)\n",
        "#round predictions\n",
        "rounded = [round(x[0]) for x in predictions]\n",
        "#print (rounded)\n",
        "\n",
        "#make probability predictions with the model\n",
        "predictions = model.predict_classes(x)\n",
        "for i in range(5):\n",
        "\tprint('%s => %d (expected %d)' % (x[i].tolist(), predictions[i], y[i]))"
      ],
      "execution_count": 14,
      "outputs": [
        {
          "output_type": "stream",
          "text": [
            "[6.0, 111.0, 64.0, 39.0, 0.0, 34.2, 260.0, 24.0] => 1 (expected 0)\n",
            "[2.0, 107.0, 74.0, 30.0, 100.0, 33.6, 404.0, 23.0] => 0 (expected 0)\n",
            "[5.0, 132.0, 80.0, 0.0, 0.0, 26.8, 186.0, 69.0] => 0 (expected 0)\n",
            "[0.0, 113.0, 76.0, 0.0, 0.0, 33.3, 278.0, 23.0] => 0 (expected 1)\n",
            "[1.0, 88.0, 30.0, 42.0, 99.0, 55.0, 496.0, 26.0] => 1 (expected 1)\n"
          ],
          "name": "stdout"
        }
      ]
    }
  ]
}