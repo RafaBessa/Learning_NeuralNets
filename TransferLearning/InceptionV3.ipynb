{
 "cells": [
  {
   "cell_type": "code",
   "execution_count": 1,
   "metadata": {},
   "outputs": [
    {
     "name": "stderr",
     "output_type": "stream",
     "text": [
      "Using TensorFlow backend.\n"
     ]
    },
    {
     "name": "stdout",
     "output_type": "stream",
     "text": [
      "1.15.0-rc3\n"
     ]
    }
   ],
   "source": [
    "import tensorflow as tf\n",
    "from tensorflow import keras\n",
    "from tensorflow.keras.models import Sequential\n",
    "from tensorflow.keras.layers import Dense, Conv2D, MaxPooling2D, Flatten\n",
    "import numpy as np\n",
    "import matplotlib.pyplot as plt\n",
    "import os\n",
    "import cv2\n",
    "import pandas as pd\n",
    "from keras.applications.inception_v3 import InceptionV3\n",
    "from keras.layers import Dense, GlobalAveragePooling2D\n",
    "from keras.models import Model\n",
    "import random\n",
    "from sklearn.model_selection import train_test_split\n",
    "print(tf.__version__)"
   ]
  },
  {
   "cell_type": "code",
   "execution_count": 2,
   "metadata": {},
   "outputs": [
    {
     "name": "stdout",
     "output_type": "stream",
     "text": [
      "(3990, 2)\n",
      "(3192, 160, 160, 3)\n",
      "(798,)\n",
      "(2,)\n"
     ]
    }
   ],
   "source": [
    "#Getting the data\n",
    "\n",
    "Datadir = \"/home/bessa/Downloads/kagglecatsanddogs_3367a/PetImages\"\n",
    "\n",
    "Categories = [\"Dog\",\"Cat\"]\n",
    "num_channels = 3\n",
    "IMG_SIZE = 160\n",
    "i =0\n",
    "training_data = []\n",
    "#transforming the data\n",
    "for category in Categories:\n",
    "    path = os.path.join(Datadir, category) # path\n",
    "    class_img = Categories.index(category)\n",
    "    \n",
    "    for img in os.listdir(path):\n",
    "        if i>2000: break;\n",
    "        #print(img)\n",
    "        try:\n",
    "            img_array = cv2.imread(os.path.join(path,img), cv2.IMREAD_COLOR)\n",
    "            new_img_array = cv2.resize(img_array, (IMG_SIZE, IMG_SIZE))\n",
    "            training_data.append([new_img_array, class_img])\n",
    "        except Exception as e:\n",
    "            pass\n",
    "        #plt.imshow(new_img_array,cmap = \"gray\")\n",
    "        #plt.show()\n",
    "        i+=1\n",
    "        \n",
    "    i=0\n",
    "random.shuffle(training_data)\n",
    "print(np.shape(training_data))\n",
    "\n",
    "#training_data = np.array(training_data/255.0)\n",
    "X = []\n",
    "y = []\n",
    "\n",
    "for p in training_data:\n",
    "    X.append(p[0]/255.0) #NORMALIZE\n",
    "    y.append(p[1])\n",
    "\n",
    "    \n",
    "x_train, x_test, y_train, y_test = train_test_split(X, y, train_size=0.8, random_state=0)\n",
    "\n",
    "\n",
    "\n",
    "x_train = np.reshape(x_train, ((np.shape(x_train))[0],IMG_SIZE, IMG_SIZE,num_channels))\n",
    "x_test = np.reshape(x_test, ((np.shape(x_test))[0],IMG_SIZE, IMG_SIZE,num_channels))\n",
    "\n",
    "print(np.shape(x_train))\n",
    "print(np.shape(y_test))\n",
    "\n",
    "print(np.shape(Categories))\n"
   ]
  },
  {
   "cell_type": "code",
   "execution_count": null,
   "metadata": {},
   "outputs": [
    {
     "name": "stdout",
     "output_type": "stream",
     "text": [
      "WARNING:tensorflow:From /home/bessa/anaconda3/lib/python3.7/site-packages/tensorflow_core/python/ops/resource_variable_ops.py:1630: calling BaseResourceVariable.__init__ (from tensorflow.python.ops.resource_variable_ops) with constraint is deprecated and will be removed in a future version.\n",
      "Instructions for updating:\n",
      "If using Keras pass *_constraint arguments to layers.\n",
      "WARNING:tensorflow:From /home/bessa/anaconda3/lib/python3.7/site-packages/keras/backend/tensorflow_backend.py:4070: The name tf.nn.max_pool is deprecated. Please use tf.nn.max_pool2d instead.\n",
      "\n",
      "WARNING:tensorflow:From /home/bessa/anaconda3/lib/python3.7/site-packages/keras/backend/tensorflow_backend.py:4074: The name tf.nn.avg_pool is deprecated. Please use tf.nn.avg_pool2d instead.\n",
      "\n"
     ]
    }
   ],
   "source": [
    "\n",
    "IMG_SHAPE = (IMG_SIZE,IMG_SIZE, 3)\n",
    "\n",
    "base_model = InceptionV3(input_shape = IMG_SHAPE, include_top = False, weights='imagenet')\n",
    "base_model.trainable = False"
   ]
  },
  {
   "cell_type": "code",
   "execution_count": null,
   "metadata": {},
   "outputs": [],
   "source": [
    "#model = tf.keras.Sequential([base_model,keras.layers.GlobalAveragePooling2D(),Dense(1, activation='sigmoid')])\n",
    "print(base_model.output)\n",
    "x = base_model.output\n",
    "x = GlobalAveragePooling2D()(x)\n",
    "x = Dense(1024, activation='relu')(x)\n",
    "output = Dense(1, activation='sigmoid')(x)\n",
    "\n",
    "model = Model(inputs=base_model.input, outputs=output)\n"
   ]
  },
  {
   "cell_type": "code",
   "execution_count": null,
   "metadata": {},
   "outputs": [],
   "source": [
    "model.compile(loss='binary_crossentropy',optimizer='adam',metrics=['accuracy'])"
   ]
  },
  {
   "cell_type": "code",
   "execution_count": null,
   "metadata": {},
   "outputs": [],
   "source": [
    "\n",
    "#trainnig model\n",
    "\n",
    "FitModel = model.fit(x_train,y_train,epochs=6,batch_size=256,validation_data=(x_test, y_test))"
   ]
  },
  {
   "cell_type": "code",
   "execution_count": null,
   "metadata": {},
   "outputs": [],
   "source": [
    "\n",
    "#validation\n",
    "\n",
    "_, accuracy = model.evaluate(x_test,y_test)\n",
    "print('Accuracy: %.2f' % (accuracy*100))"
   ]
  },
  {
   "cell_type": "code",
   "execution_count": null,
   "metadata": {},
   "outputs": [],
   "source": [
    "plt.figure(figsize=(20, 5))\n",
    "plt.plot(FitModel.history['loss'], color='blue')\n",
    "plt.plot(FitModel.history['val_loss'], color='red')\n",
    "plt.title('Model loss', fontsize=20)\n",
    "plt.ylabel('loss')\n",
    "plt.xlabel('epoch')\n",
    "plt.legend(['Treinamento', 'Validação'], loc='upper right', fontsize=14)\n",
    "plt.show()"
   ]
  }
 ],
 "metadata": {
  "kernelspec": {
   "display_name": "Python 3",
   "language": "python",
   "name": "python3"
  },
  "language_info": {
   "codemirror_mode": {
    "name": "ipython",
    "version": 3
   },
   "file_extension": ".py",
   "mimetype": "text/x-python",
   "name": "python",
   "nbconvert_exporter": "python",
   "pygments_lexer": "ipython3",
   "version": "3.7.3"
  }
 },
 "nbformat": 4,
 "nbformat_minor": 2
}
